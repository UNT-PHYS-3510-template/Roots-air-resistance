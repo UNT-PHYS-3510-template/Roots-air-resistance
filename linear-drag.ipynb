{
 "cells": [
  {
   "cell_type": "markdown",
   "metadata": {},
   "source": [
    "# Linear Air Resistance, Spin, etc."
   ]
  },
  {
   "cell_type": "markdown",
   "metadata": {},
   "source": [
    "Import usual suspects"
   ]
  },
  {
   "cell_type": "code",
   "execution_count": 1,
   "metadata": {},
   "outputs": [],
   "source": [
    "import numpy as np\n",
    "import matplotlib.pyplot as plt\n",
    "import matplotlib.style as style\n",
    "style.use('dark_background') # you can comment out this line if you are not using a dark background"
   ]
  },
  {
   "cell_type": "markdown",
   "metadata": {},
   "source": [
    "Define our favorite ODE solver (but feel free to try others)"
   ]
  },
  {
   "cell_type": "code",
   "execution_count": 2,
   "metadata": {},
   "outputs": [],
   "source": [
    "def Euler(diffeq,dof,dt):\n",
    "    \"\"\"\n",
    "    Euler method for ODEs:\n",
    "    Given the degrees of freedom at time t\n",
    "    Returns the degrees of freedom at time t+dt\n",
    "    \"\"\"\n",
    "    ddofdt=diffeq(dof) # get (d/dt)dof at time t\n",
    "    return dof + dt*ddofdt"
   ]
  },
  {
   "cell_type": "markdown",
   "metadata": {},
   "source": [
    "Define the righthand sides of the first order differential equations associated with linear drag. The formulas are very similar to the projectile motion, plus a term $\\vec{F}_1=-b_1\\vec{v}$"
   ]
  },
  {
   "cell_type": "code",
   "execution_count": 5,
   "metadata": {},
   "outputs": [],
   "source": [
    "def linear_drag(dof):\n",
    "    \"\"\"\n",
    "    \"\"\"\n",
    "    ddofdt=np.zeros(4)\n",
    "    ddofdt[0]=dof[2] # dx/dt = vx\n",
    "    ddofdt[1]=dof[3] # dy/dt = vy\n",
    "    ddofdt[2]=-b1*dof[2]/m # dvx/dt = - b1 * vx / m\n",
    "    ddofdt[3]=a-b1*dof[3]/m # dvy/dt = - g - b1 * vy /m\n",
    "    return ddofdt"
   ]
  },
  {
   "cell_type": "markdown",
   "metadata": {},
   "source": [
    "Setup physical parameters of the simulation: initial conditions, mass, drag, gravity"
   ]
  },
  {
   "cell_type": "code",
   "execution_count": 35,
   "metadata": {},
   "outputs": [],
   "source": [
    "v0=20. # initial speed in m/s\n",
    "theta=np.pi/4. # launching angle in rad\n",
    "dof0=[0.,0.,v0*np.cos(theta),v0*np.sin(theta)] # initial position and velocity of the projectile\n",
    "m=0.5 # mass of the ball in kg\n",
    "b1=0.2 # drag coefficient in S.I. units\n",
    "b=b1/m # scaled drag\n",
    "a=-9.8 # acceleration due to gravity"
   ]
  },
  {
   "cell_type": "markdown",
   "metadata": {},
   "source": [
    "Here we run the simulation. Note that the timestep is a numerical parameter (has no physical meaning) that you may want to optimize, so that the truncation error in the trajectory is small. "
   ]
  },
  {
   "cell_type": "code",
   "execution_count": 32,
   "metadata": {},
   "outputs": [],
   "source": [
    "dt = 0.1 # This controls the accuracy of the algorithm\n",
    "times=[0.] # Setup a container to store the times along the trajectory\n",
    "lenghts=[dof0[0]] # Setup a container to store the horizontal position along the trajectory\n",
    "heights=[dof0[0]] # Setup a container to store the vertical position along the trajectory\n",
    "dof=dof0.copy() # we copy the initial conditions, as we don't want to overwrite them, we may use them in the following. \n",
    "# note that in the above we use the array.copy() method, as the = operator has a different meaning for arrays\n",
    "while True: # this is an infinite loop, make sure you break it somewhere\n",
    "    dof=Euler(linear_drag,dof,dt)\n",
    "    if dof[1] < 0. : break # when the ball reaches the floor, exit the loop\n",
    "    lenghts.append(dof[0]) # otherwise, save the position of the ball\n",
    "    heights.append(dof[1]) # otherwise, save the position of the ball\n",
    "    times.append(times[-1]+dt) # and the corresponding time"
   ]
  },
  {
   "cell_type": "markdown",
   "metadata": {},
   "source": [
    "Assignment 2A: compare the numeric solutions obtained with Euler (or RK2, or RK4) integrator with the analytic formula (Eq. 3.16 of the textbook)"
   ]
  },
  {
   "cell_type": "code",
   "execution_count": 33,
   "metadata": {},
   "outputs": [
    {
     "data": {
      "image/png": "[encoded data removed]",
      "text/plain": [
       "<Figure size 432x288 with 1 Axes>"
      ]
     },
     "metadata": {},
     "output_type": "display_data"
    }
   ],
   "source": [
    "plt.plot(lenghts,heights)\n",
    "x_analytic=np.linspace(np.min(lenghts),np.max(lenghts),100)\n",
    "y_analytic=x_analytic/dof0[2]*(dof0[3]+9.8/b)+9.8/b**2*np.log(1.-b*x_analytic/dof0[2])\n",
    "plt.plot(x_analytic,y_analytic)\n",
    "plt.show()"
   ]
  },
  {
   "cell_type": "markdown",
   "metadata": {},
   "source": [
    "Assignmnet 2B: use the bisection (or Newton's) method to compute the range of the baseball, given the initial conditions. You will need to copy here one of the two root finders from the first assignment. Moreover, you may want define a new function with the analytic expression of the function, in order to pass it to the root finder."
   ]
  },
  {
   "cell_type": "code",
   "execution_count": 177,
   "metadata": {},
   "outputs": [
    {
     "ename": "SyntaxError",
     "evalue": "invalid syntax (<ipython-input-177-779e4e948bc9>, line 8)",
     "output_type": "error",
     "traceback": [
      "\u001b[0;36m  File \u001b[0;32m\"<ipython-input-177-779e4e948bc9>\"\u001b[0;36m, line \u001b[0;32m8\u001b[0m\n\u001b[0;31m    y=\u001b[0m\n\u001b[0m      ^\u001b[0m\n\u001b[0;31mSyntaxError\u001b[0m\u001b[0;31m:\u001b[0m invalid syntax\n"
     ]
    }
   ],
   "source": [
    "def height_linear_drag(x):\n",
    "    \"\"\"\n",
    "    This function will compute the expression of the height of a ball subject to linear air-resistance\n",
    "    as a function of its horizontal position (as reported in Eq. 3.16 of the textbook)\n",
    "    I this function you can use the physical parameters of the simulaltion, as expressed in the box above\n",
    "    i.e. you can use dos0, a, b, etc.\n",
    "    \"\"\"\n",
    "    y=\n",
    "    return y"
   ]
  }
 ],
 "metadata": {
  "interpreter": {
   "hash": "2d7846955ef7c6cdb0317123bc42ab1f1df9d7c4fbf3a9f5b21349871b965b49"
  },
  "kernelspec": {
   "display_name": "Python 3.6.5 64-bit ('base': conda)",
   "language": "python",
   "name": "python3"
  },
  "language_info": {
   "codemirror_mode": {
    "name": "ipython",
    "version": 3
   },
   "file_extension": ".py",
   "mimetype": "text/x-python",
   "name": "python",
   "nbconvert_exporter": "python",
   "pygments_lexer": "ipython3",
   "version": "3.6.5"
  },
  "orig_nbformat": 4
 },
 "nbformat": 4,
 "nbformat_minor": 2
}
