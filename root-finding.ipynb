{
 "cells": [
  {
   "cell_type": "markdown",
   "metadata": {},
   "source": [
    "# Root Finding: Bisection vs. Newton"
   ]
  },
  {
   "cell_type": "markdown",
   "metadata": {},
   "source": [
    "We start by importing the usual suspects"
   ]
  },
  {
   "cell_type": "code",
   "execution_count": 2,
   "metadata": {},
   "outputs": [],
   "source": [
    "import numpy as np\n",
    "import matplotlib.pyplot as plt\n",
    "import matplotlib.style as style\n",
    "style.use('dark_background') # you can comment out this line if you are not using a dark background"
   ]
  },
  {
   "cell_type": "markdown",
   "metadata": {},
   "source": [
    "We now define the function with the bisection method. Note that we pass a generic function f as an argument"
   ]
  },
  {
   "cell_type": "code",
   "execution_count": 6,
   "metadata": {},
   "outputs": [],
   "source": [
    "def bisection(a,b,f, tol=1.e-6):\n",
    "    \"\"\"\"\"\"\n",
    "    fa=f(a)\n",
    "    fb=f(b)\n",
    "    if abs(fa) < tol : \n",
    "        return a\n",
    "    elif abs(fb) < tol :\n",
    "        return b\n",
    "    elif fa*fb > 0. :\n",
    "        print(\"bisection error: no root in bracket\")\n",
    "        return None\n",
    "    #\n",
    "    i=1\n",
    "    while True : \n",
    "        i+=1\n",
    "        x = 0.5*(a+b)\n",
    "        fx=f(x)\n",
    "        if fx*fa < 0. :\n",
    "            b=x\n",
    "            fb=fx\n",
    "        else :\n",
    "            a=x\n",
    "            fa=fx\n",
    "        if abs(a-b) < tol or abs(fx) < tol : break\n",
    "    #\n",
    "    return x,i"
   ]
  },
  {
   "cell_type": "markdown",
   "metadata": {},
   "source": [
    "In the following we use a sophisticated Python trick (closure) to define a generic function of $x$ that depends on additional parameters. With this trick, we can specify the parameter (e.g. the number for which we want to compute the square root) before passing the function to our zero finder."
   ]
  },
  {
   "cell_type": "code",
   "execution_count": 23,
   "metadata": {},
   "outputs": [],
   "source": [
    "def x2_minus_n(n):\n",
    "    def x2(x):\n",
    "        return x**2 - n\n",
    "    return x2"
   ]
  },
  {
   "cell_type": "markdown",
   "metadata": {},
   "source": [
    "We can now use the bisection algorithm on the function $f(x)=x^2-2$ to find the value of $\\sqrt{2}$, for which $f(x=\\sqrt{2})=0$"
   ]
  },
  {
   "cell_type": "code",
   "execution_count": 27,
   "metadata": {},
   "outputs": [
    {
     "name": "stdout",
     "output_type": "stream",
     "text": [
      "In 52 iterations we obtain that the square root of 2 is 1.4142135623731\n",
      "The error with respect to Numpy is -2.2204460493e-16\n"
     ]
    }
   ],
   "source": [
    "x2_minus_2=x2_minus_n(2) # here we generate the specific function needed to find the square root of two\n",
    "sqrt2,niter=bisection(0.,2.,x2_minus_2,1e-15)\n",
    "print(\"In %i iterations we obtain that the square root of 2 is %15.13f\" %(niter,sqrt2))\n",
    "print(\"The error with respect to Numpy is %14.10e\" %(sqrt2-np.sqrt(2)))"
   ]
  },
  {
   "cell_type": "markdown",
   "metadata": {},
   "source": [
    "Instead of using closure, we can implement the same functioon using lambda functions."
   ]
  },
  {
   "cell_type": "code",
   "execution_count": 29,
   "metadata": {},
   "outputs": [
    {
     "name": "stdout",
     "output_type": "stream",
     "text": [
      "In 52 iterations we obtain that the square root of 2 is 1.4142135623731\n",
      "The error with respect to Numpy is -2.2204460493e-16\n"
     ]
    }
   ],
   "source": [
    "x2_minus_2=lambda x: x**2 - 2. # inline definition of a simple function using lambda\n",
    "sqrt2,niter=bisection(0.,2.,x2_minus_2,1e-15)\n",
    "print(\"In %i iterations we obtain that the square root of 2 is %15.13f\" %(niter,sqrt2))\n",
    "print(\"The error with respect to Numpy is %14.10e\" %(sqrt2-np.sqrt(2)))"
   ]
  },
  {
   "cell_type": "markdown",
   "metadata": {},
   "source": [
    "Assignment 1A: implement Newton's methods. You can follow the algorithm reported in the textbook, or you can implement a loop where you compute $f(x_n)$ and $f'(x_n)$ to generate a new guess for the root as $x_{n+1}=x_n-f(x)/f'(x)$. You may want to make sure to return an error if the algorithm has not converged by the maximum iteration or if the derivative of the function becomes zero."
   ]
  },
  {
   "cell_type": "code",
   "execution_count": 30,
   "metadata": {},
   "outputs": [],
   "source": [
    "def newton(x,f,df,tol=1.e-10,nmax=20):\n",
    "    \"\"\"\n",
    "    Function to compute the zero of a function, using Newton's method\n",
    "    The algorithm requires to have the function (f) and its first derivative (df)\n",
    "    Since the algorithm can get stuck in infinite loops, we specify a maximum number of iterations\n",
    "    \"\"\"\n",
    "    return x,i"
   ]
  },
  {
   "cell_type": "markdown",
   "metadata": {},
   "source": [
    "Assigment 1B: Use Newton's algorithm to compute the square root of a number and compare the results with Numpy"
   ]
  },
  {
   "cell_type": "code",
   "execution_count": null,
   "metadata": {},
   "outputs": [],
   "source": []
  },
  {
   "cell_type": "markdown",
   "metadata": {},
   "source": [
    "Note that for the specific case of finding the square root of a number N, Newton's method can be simplified analytically, giving $x_{n+1}=(x_{n}+N/x_{n})/2$. This algorithm is in fact way older than Newton, dating back to Babylonians (about 1500 BC).\n",
    "\n",
    "If you want to practice with writing loops, try to implement a function to compute the square root using the Babylonian algorithm"
   ]
  },
  {
   "cell_type": "code",
   "execution_count": 45,
   "metadata": {},
   "outputs": [],
   "source": [
    "def sqrt_babylon(N, tol=1.e-16):\n",
    "\n",
    "    return"
   ]
  }
 ],
 "metadata": {
  "interpreter": {
   "hash": "2d7846955ef7c6cdb0317123bc42ab1f1df9d7c4fbf3a9f5b21349871b965b49"
  },
  "kernelspec": {
   "display_name": "Python 3.6.5 64-bit ('base': conda)",
   "language": "python",
   "name": "python3"
  },
  "language_info": {
   "codemirror_mode": {
    "name": "ipython",
    "version": 3
   },
   "file_extension": ".py",
   "mimetype": "text/x-python",
   "name": "python",
   "nbconvert_exporter": "python",
   "pygments_lexer": "ipython3",
   "version": "3.6.5"
  },
  "orig_nbformat": 4
 },
 "nbformat": 4,
 "nbformat_minor": 2
}
