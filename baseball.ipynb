{
 "cells": [
  {
   "cell_type": "markdown",
   "metadata": {},
   "source": [
    "# Realistic Motion of a Baseball: Quadratic Air Resistance and Spin"
   ]
  },
  {
   "cell_type": "markdown",
   "metadata": {},
   "source": [
    "Import useful modules"
   ]
  },
  {
   "cell_type": "code",
   "execution_count": 3,
   "metadata": {},
   "outputs": [],
   "source": [
    "import numpy as np\n",
    "import matplotlib.pyplot as plt\n",
    "import matplotlib.style as style\n",
    "style.use('dark_background') # you can comment out this line if you are not using a dark background"
   ]
  },
  {
   "cell_type": "markdown",
   "metadata": {},
   "source": [
    "Define the ODE solver of choice (but feel free to experiment with others if you like)"
   ]
  },
  {
   "cell_type": "code",
   "execution_count": 10,
   "metadata": {},
   "outputs": [],
   "source": [
    "def RK2(diffeq,dof,dt):\n",
    "    \"\"\"\n",
    "    Runge-Kutta second order method for ODEs:\n",
    "    Given the degrees of freedom at time t\n",
    "    Returns the degrees of freedom at time t+dt\n",
    "    \"\"\"\n",
    "    k1=dt*diffeq(dof)\n",
    "    k2=dt*diffeq(dof+0.5*k1)\n",
    "    return dof+k2"
   ]
  },
  {
   "cell_type": "markdown",
   "metadata": {},
   "source": [
    "Assignment 3A: complete the function to return the righthand-sides of the differential equations associated with the quadratic drag (Eqs. 3.34 of the textbook)."
   ]
  },
  {
   "cell_type": "code",
   "execution_count": null,
   "metadata": {},
   "outputs": [],
   "source": [
    "def quadratic_drag(dof):\n",
    "    \"\"\"\n",
    "    \"\"\"\n",
    "    speed=np.sqrt(dof[2]**2+dof[3]**2)\n",
    "    b2=air_density*baseball_area*Cd*0.5\n",
    "    ddofdt=np.zeros(4)\n",
    "    ddofdt[0]=\n",
    "    ddofdt[1]=\n",
    "    ddofdt[2]=\n",
    "    ddofdt[3]=\n",
    "    return ddofdt"
   ]
  },
  {
   "cell_type": "markdown",
   "metadata": {},
   "source": [
    "Setup the parameters of the simulation"
   ]
  },
  {
   "cell_type": "code",
   "execution_count": null,
   "metadata": {},
   "outputs": [],
   "source": [
    "v0=45. # initial speed in m/s\n",
    "theta=np.pi/6. # launching angle in rad\n",
    "dof0=[0.,0.,v0*np.cos(theta),v0*np.sin(theta)] # initial position and velocity of the projectile\n",
    "a=-9.8 # acceleration due to gravity\n",
    "m = 0.145 # baseball mass in kg \n",
    "Cd = 0.5 # constant drag coefficient of a sphere\n",
    "baseball_radius = 3.65e-2 # in m\n",
    "baseball_area = np.pi*baseball_radius**2\n",
    "air_density = 1.225 # in kg/m^3"
   ]
  },
  {
   "cell_type": "code",
   "execution_count": null,
   "metadata": {},
   "outputs": [],
   "source": [
    "dt = 0.001 # This controls the accuracy of the algorithm\n",
    "times=[0.] # Setup a container to store the times along the trajectory\n",
    "lenghts=[dof0[0]] # Setup a container to store the horizontal position along the trajectory\n",
    "heights=[dof0[0]] # Setup a container to store the vertical position along the trajectory\n",
    "dof=dof0.copy() # we copy the initial conditions, as we don't want to overwrite them, we may use them in the following. \n",
    "# note that in the above we use the array.copy() method, as the = operator has a different meaning for arrays\n",
    "while True: # this is an infinite loop, make sure you break it somewhere\n",
    "    dof=RK2(quadratic_drag,dof,dt)\n",
    "    if dof[1] < 0. : break # when the ball reaches the floor, exit the loop\n",
    "    lenghts.append(dof[0]) # otherwise, save the position of the ball\n",
    "    heights.append(dof[1]) # otherwise, save the position of the ball\n",
    "    times.append(times[-1]+dt) # and the corresponding time"
   ]
  },
  {
   "cell_type": "markdown",
   "metadata": {},
   "source": [
    "Assignment 3B: using the following implementation of the drag coefficient $C_d$ as a function of the speed of the ball, implement a new simulation for variable quadratic drag."
   ]
  },
  {
   "cell_type": "code",
   "execution_count": 8,
   "metadata": {},
   "outputs": [
    {
     "data": {
      "image/png": "[encoded data removed]",
      "text/plain": [
       "<Figure size 432x288 with 1 Axes>"
      ]
     },
     "metadata": {},
     "output_type": "display_data"
    }
   ],
   "source": [
    "def baseball_Cd(v):\n",
    "    \"\"\"\n",
    "    Variable drag coefficient Cd(v) of a baseball as a function of its speed\n",
    "    Eq. 3.8 of the textbook\n",
    "    \"\"\"\n",
    "    a=0.36\n",
    "    b=0.14\n",
    "    c=0.27\n",
    "    vc=34 # critical velocity in m/s\n",
    "    chi=(v-vc)/4.\n",
    "    gauss=np.exp(-chi**2/4)*(chi>0)+np.exp(-chi**2)*(chi<=0) # this is compatible with v being a numpy array\n",
    "    return a + b / ( 1 + np.exp(chi) ) - c * gauss\n",
    "\n",
    "v=np.linspace(0.,100.,100)\n",
    "plt.plot(v,baseball_Cd(v))\n",
    "plt.xlabel('speed in m/s')\n",
    "plt.ylabel('Cd')\n",
    "plt.show()"
   ]
  },
  {
   "cell_type": "markdown",
   "metadata": {},
   "source": [
    "HINT: in the function below use the baseball_Cd(speed) function"
   ]
  },
  {
   "cell_type": "code",
   "execution_count": 5,
   "metadata": {},
   "outputs": [
    {
     "ename": "SyntaxError",
     "evalue": "invalid syntax (<ipython-input-5-a8f674679b58>, line 7)",
     "output_type": "error",
     "traceback": [
      "\u001b[0;36m  File \u001b[0;32m\"<ipython-input-5-a8f674679b58>\"\u001b[0;36m, line \u001b[0;32m7\u001b[0m\n\u001b[0;31m    ddofdt[0]=\u001b[0m\n\u001b[0m              ^\u001b[0m\n\u001b[0;31mSyntaxError\u001b[0m\u001b[0;31m:\u001b[0m invalid syntax\n"
     ]
    }
   ],
   "source": [
    "def variable_drag(dof):\n",
    "    \"\"\"\n",
    "    \"\"\"\n",
    "    speed=np.sqrt(dof[2]**2+dof[3]**2)\n",
    "    ddofdt=np.zeros(4)\n",
    "    ddofdt[0]=\n",
    "    ddofdt[1]=\n",
    "    ddofdt[2]=\n",
    "    ddofdt[3]=\n",
    "    return ddofdt"
   ]
  },
  {
   "cell_type": "markdown",
   "metadata": {},
   "source": [
    "Run the simulation with variable drug and compare its results with the cases with constant drag and with no drag. NOTE: you can change the names of the variables in these blocks so that you don't overwrite previous simulations and you can plot results of different blocks together. "
   ]
  },
  {
   "cell_type": "code",
   "execution_count": null,
   "metadata": {},
   "outputs": [],
   "source": [
    "dt = 0.001 # This controls the accuracy of the algorithm\n",
    "times=[0.] # Setup a container to store the times along the trajectory\n",
    "lenghts=[dof0[0]] # Setup a container to store the horizontal position along the trajectory\n",
    "heights=[dof0[0]] # Setup a container to store the vertical position along the trajectory\n",
    "dof=dof0.copy() # we copy the initial conditions, as we don't want to overwrite them, we may use them in the following. \n",
    "# note that in the above we use the array.copy() method, as the = operator has a different meaning for arrays\n",
    "while True: # this is an infinite loop, make sure you break it somewhere\n",
    "    dof=RK2(variable_drag,dof,dt)\n",
    "    if dof[1] < 0. : break # when the ball reaches the floor, exit the loop\n",
    "    lenghts.append(dof[0]) # otherwise, save the position of the ball\n",
    "    heights.append(dof[1]) # otherwise, save the position of the ball\n",
    "    times.append(times[-1]+dt) # and the corresponding time"
   ]
  },
  {
   "cell_type": "markdown",
   "metadata": {},
   "source": [
    "Assignment 3C (Optional): Implement the most general differential equation that also includes the Magnus force. Assume that the spin rotation axis is perpendicular to the xy plane, i.e. the Magnus force and the trajectory are still in the xy plane. First define the additional parameters of the simulation"
   ]
  },
  {
   "cell_type": "code",
   "execution_count": 9,
   "metadata": {},
   "outputs": [],
   "source": [
    "alpha = 5.e-5 # constant Magnus coefficient in kg\n",
    "omega = 200 # in rad/s"
   ]
  },
  {
   "cell_type": "markdown",
   "metadata": {},
   "source": [
    "Then complete the differential equations"
   ]
  },
  {
   "cell_type": "code",
   "execution_count": null,
   "metadata": {},
   "outputs": [],
   "source": [
    "\n",
    "def baseball(dof):\n",
    "    \"\"\"\n",
    "    \"\"\"\n",
    "    speed=np.sqrt(dof[2]**2+dof[3]**2)\n",
    "    ddofdt=np.zeros(4)\n",
    "    ddofdt[0]=\n",
    "    ddofdt[1]=\n",
    "    ddofdt[2]=\n",
    "    ddofdt[3]=\n",
    "    return ddofdt"
   ]
  },
  {
   "cell_type": "markdown",
   "metadata": {},
   "source": [
    "Eventually, run the simulation and compare the results with the ones with no spin."
   ]
  },
  {
   "cell_type": "markdown",
   "metadata": {},
   "source": []
  }
 ],
 "metadata": {
  "interpreter": {
   "hash": "2d7846955ef7c6cdb0317123bc42ab1f1df9d7c4fbf3a9f5b21349871b965b49"
  },
  "kernelspec": {
   "display_name": "Python 3.6.5 64-bit ('base': conda)",
   "language": "python",
   "name": "python3"
  },
  "language_info": {
   "codemirror_mode": {
    "name": "ipython",
    "version": 3
   },
   "file_extension": ".py",
   "mimetype": "text/x-python",
   "name": "python",
   "nbconvert_exporter": "python",
   "pygments_lexer": "ipython3",
   "version": "3.6.5"
  },
  "orig_nbformat": 4
 },
 "nbformat": 4,
 "nbformat_minor": 2
}
